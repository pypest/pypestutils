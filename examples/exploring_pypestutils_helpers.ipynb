{
 "cells": [
  {
   "cell_type": "markdown",
   "id": "d6aa4b78-a003-4516-858b-401f27929cdd",
   "metadata": {},
   "source": [
    "# Exploring higher-level functions in  `PyPestUtils.helpers` with a structured Freyberg model"
   ]
  },
  {
   "cell_type": "code",
   "execution_count": null,
   "id": "9f4e07bc-249d-46d5-9520-24b89e06055c",
   "metadata": {},
   "outputs": [],
   "source": [
    "import os\n",
    "import sys\n",
    "import shutil\n",
    "import subprocess as sp\n",
    "\n",
    "import numpy as np\n",
    "import pandas as pd\n",
    "import matplotlib.pyplot as plt"
   ]
  },
  {
   "cell_type": "markdown",
   "id": "136ece76-a01c-4edb-bfab-6983f1053d76",
   "metadata": {},
   "source": [
    "Setup the working dir using an existing set of model files"
   ]
  },
  {
   "cell_type": "code",
   "execution_count": null,
   "id": "f18a2a7f-4c11-4295-bd5b-f6f598891aeb",
   "metadata": {},
   "outputs": [],
   "source": [
    "org_d = \"freyberg_monthly\"\n",
    "w_d = \"freyberg_highlevel_helpers\"\n",
    "if os.path.exists(w_d):\n",
    "    shutil.rmtree(w_d)\n",
    "shutil.copytree(org_d,w_d)"
   ]
  },
  {
   "cell_type": "markdown",
   "id": "ca65e5a5-7763-499b-9c2e-53c13e970f2a",
   "metadata": {},
   "source": [
    "Just some basic viz:"
   ]
  },
  {
   "cell_type": "code",
   "execution_count": null,
   "id": "d674d3a2-160d-49c3-b0c0-2e3a01fdbdcc",
   "metadata": {},
   "outputs": [],
   "source": [
    "delc = np.loadtxt(os.path.join(w_d,\"freyberg6.dis_delc.txt\")).flatten()\n",
    "delr = np.loadtxt(os.path.join(w_d,\"freyberg6.dis_delr.txt\")).flatten()"
   ]
  },
  {
   "cell_type": "code",
   "execution_count": null,
   "id": "6b5d9e69-2fab-4fe4-9f77-504a277e0ff5",
   "metadata": {},
   "outputs": [],
   "source": [
    "nrow = delc.shape[0]\n",
    "ncol = delr.shape[0]\n",
    "nlay = 3\n",
    "ib = np.loadtxt(os.path.join(w_d,\"freyberg6.dis_idomain_layer1.txt\"),dtype=int)\n",
    "ib = ib.flatten().reshape(nrow,ncol)\n",
    "plt.imshow(ib)"
   ]
  },
  {
   "cell_type": "code",
   "execution_count": null,
   "id": "9b1b37cd-f975-45f7-8603-93c2eee132b4",
   "metadata": {},
   "outputs": [],
   "source": [
    "import pypestutils.helpers as helpers"
   ]
  },
  {
   "cell_type": "markdown",
   "id": "d6423e39-7798-4f18-9f63-7bae41eeda63",
   "metadata": {},
   "source": [
    "# Replicating `MOD2OBS` and `MOD2SMP` \n",
    "\n",
    "`pypestutils` contains most of the ingredients to re-create both `MOD2OBS` and `MOD2SMP`. There is also a high-level helper function to combine these ingredients for MODFLOW-6 models:"
   ]
  },
  {
   "cell_type": "code",
   "execution_count": null,
   "id": "34fed7dc-9960-498e-868b-8a059b0face7",
   "metadata": {},
   "outputs": [],
   "source": [
    "grb_fname = os.path.join(w_d,\"freyberg6.dis.grb\")\n",
    "os.path.exists(grb_fname)"
   ]
  },
  {
   "cell_type": "markdown",
   "id": "d0ad0cac-bd8c-4f56-a74e-093acf915c00",
   "metadata": {},
   "source": [
    "The \"observation data\" is stored in an existing csv file (in table format):"
   ]
  },
  {
   "cell_type": "code",
   "execution_count": null,
   "id": "e1b7728c-93c7-4f2e-bd8d-d79f59ca2cb6",
   "metadata": {},
   "outputs": [],
   "source": [
    "csv_fname = os.path.join(\"freyberg_aux_files\",\"gwlevel_obs.csv\")\n",
    "assert os.path.exists(csv_fname)\n",
    "obsdf = pd.read_csv(csv_fname)\n",
    "obsdf"
   ]
  },
  {
   "cell_type": "markdown",
   "id": "84fc5309-8a43-48e3-868e-432f61403db3",
   "metadata": {},
   "source": [
    "Note:  the column names in this table are REQUIRED for `helpers.mod2obs_mf6()`!"
   ]
  },
  {
   "cell_type": "code",
   "execution_count": null,
   "id": "d31a1476-0efe-4a24-9139-72edf5cff65c",
   "metadata": {},
   "outputs": [],
   "source": [
    "depvar_fname = os.path.join(w_d,\"freyberg6_freyberg.hds\")\n",
    "model_type = 31 #structured modflow-6 model type\n",
    "start_datetime = \"1-1-2018\" # when the simulation starts\n",
    "depvar_ftype = 1# modflow-6 binary file format: 1 for states, 2 for budgets\n",
    "depvar_name = \"head\"# the variable name in the output file to process/extract"
   ]
  },
  {
   "cell_type": "code",
   "execution_count": null,
   "id": "b1b5762d-af9a-4ec5-acac-4b02cc0ec109",
   "metadata": {},
   "outputs": [],
   "source": [
    "results = helpers.mod2obs_mf6(grb_fname,depvar_fname,csv_fname,model_type,start_datetime,depvar_ftype)"
   ]
  },
  {
   "cell_type": "code",
   "execution_count": null,
   "id": "b419edde-6b4e-4215-8639-221d54edc9f7",
   "metadata": {},
   "outputs": [],
   "source": [
    "results"
   ]
  },
  {
   "cell_type": "code",
   "execution_count": null,
   "id": "7b732a19-0cc5-4a66-b5dd-0929c59d4a59",
   "metadata": {},
   "outputs": [],
   "source": [
    "adf = results[\"all_results\"]\n",
    "idf = results[\"interpolated_results\"]\n",
    "for site in adf.columns:\n",
    "    aadf = adf.loc[:,site]\n",
    "    aadf.loc[aadf.values >1e29] = np.nan\n",
    "    \n",
    "    iidf = idf.loc[idf.site==site,:]\n",
    "    iidf.loc[iidf.simulated>1e29,\"simulated\"] = np.nan\n",
    "    fig,ax = plt.subplots(1,1,figsize=(8,5))\n",
    "    ax.plot(aadf.index,aadf.values,\"0.5\",lw=0.5,label=\"all sim times\")\n",
    "    ax.scatter(iidf.datetime,iidf.obsval,marker=\"^\",c=\"r\",label=\"observed\")\n",
    "    ax.scatter(iidf.datetime,iidf.simulated,marker=\"^\",c=\"0.5\",label=\"interp to obs\")\n",
    "    ax.set_title(site,loc=\"left\")\n",
    "    ax.legend(loc=\"upper left\")\n",
    "    ax.grid()\n",
    "    plt.tight_layout()\n",
    "    plt.show()\n",
    "    plt.close(fig)\n",
    "        "
   ]
  },
  {
   "cell_type": "markdown",
   "id": "20bdd61b-c8a5-4a49-882e-b35cd40e17f8",
   "metadata": {},
   "source": [
    "So thats it!  If we look in the `w_d` workspace, we can see what output files were created by `mod2obs_mf6()`:"
   ]
  },
  {
   "cell_type": "code",
   "execution_count": null,
   "id": "8e5cbcf1-e01a-41d5-b953-a1616607812c",
   "metadata": {},
   "outputs": [],
   "source": [
    "[f for f in os.listdir(w_d) if f.endswith(\".csv\") and os.path.split(depvar_fname)[1] in f]"
   ]
  },
  {
   "cell_type": "markdown",
   "id": "44539233-53fb-486c-b95c-045e72ee2e4c",
   "metadata": {},
   "source": [
    "Those are just the results dataframes saved to disk..."
   ]
  },
  {
   "cell_type": "markdown",
   "id": "6075546b-65db-4ba4-af4d-232015b099b7",
   "metadata": {},
   "source": [
    "## Spatial Referencing the model grid for parameterization"
   ]
  },
  {
   "cell_type": "raw",
   "id": "3ebea548-e80c-42eb-9899-8a4790800129",
   "metadata": {},
   "source": [
    "For structured grid models, you can use the `helpers.SpatialReference` class to represent location of the grid in real-world coordinates"
   ]
  },
  {
   "cell_type": "code",
   "execution_count": null,
   "id": "469da07f-894a-4911-bb83-8cc98c0945f6",
   "metadata": {},
   "outputs": [],
   "source": [
    "sr = helpers.SpatialReference(delc=delc,delr=delr,rotation=-55,xul=0,yul=0)\n",
    "sr.rotation"
   ]
  },
  {
   "cell_type": "code",
   "execution_count": null,
   "id": "c0c10a49-6ad7-4e17-b31f-66e06eb1bf3b",
   "metadata": {},
   "outputs": [],
   "source": [
    "plt.pcolormesh(sr.xcentergrid,sr.ycentergrid,ib)"
   ]
  },
  {
   "cell_type": "markdown",
   "id": "2c584566-9ef8-48e2-be45-d524cf345984",
   "metadata": {},
   "source": [
    "The class can also write a PEST-style grid specification file:"
   ]
  },
  {
   "cell_type": "code",
   "execution_count": null,
   "id": "5e2083e9-eca9-4aae-b8c1-85c7e5d43535",
   "metadata": {},
   "outputs": [],
   "source": [
    "gridspec_fname = os.path.join(w_d,\"grid.spc\")\n",
    "sr.write_gridspec(gridspec_fname)"
   ]
  },
  {
   "cell_type": "markdown",
   "id": "491152ce-7616-462c-85ae-0a3b5b01dde7",
   "metadata": {},
   "source": [
    "We can also just save down the grid node centroids to a simple csv file.  Let's make a dataframe!"
   ]
  },
  {
   "cell_type": "code",
   "execution_count": null,
   "id": "319ae8f7-b7ce-43e9-9d36-62d1e4011f04",
   "metadata": {},
   "outputs": [],
   "source": [
    "x,y = sr.xcentergrid.flatten(),sr.ycentergrid.flatten()\n",
    "grid_df = pd.DataFrame({\"x\":x,\"y\":y,\"layer\":1})\n",
    "csv_fname = os.path.join(w_d,\"grid.csv\")\n",
    "grid_df.to_csv(csv_fname)"
   ]
  },
  {
   "cell_type": "markdown",
   "id": "07d8a991-b70b-4c31-a7ba-d375733c6215",
   "metadata": {},
   "source": [
    "Now lets get a `PestUtilsLib` instance:"
   ]
  },
  {
   "cell_type": "code",
   "execution_count": null,
   "id": "a59124d5-7ea8-490a-8548-9b2a039301ec",
   "metadata": {},
   "outputs": [],
   "source": [
    "from pypestutils.pestutilslib import PestUtilsLib\n",
    "lib = PestUtilsLib()"
   ]
  },
  {
   "cell_type": "markdown",
   "id": "0da7e79a-c42a-49fc-a634-d2edb24a997c",
   "metadata": {},
   "source": [
    "We can also get grid info from a MODFLOW6 binary grid file:"
   ]
  },
  {
   "cell_type": "code",
   "execution_count": null,
   "id": "0cb4942d-a926-44d3-8f43-43288ba546a4",
   "metadata": {},
   "outputs": [],
   "source": [
    "grb_fname = os.path.join(w_d,\"freyberg6.dis.grb\")\n",
    "os.path.exists(grb_fname)"
   ]
  },
  {
   "cell_type": "code",
   "execution_count": null,
   "id": "93df38cd-f2a8-4e66-a5b4-21ff9357f9ec",
   "metadata": {},
   "outputs": [],
   "source": [
    "grid_info = helpers.get_grid_info_from_mf6_grb(grb_fname)\n",
    "grid_info['x'].shape"
   ]
  },
  {
   "cell_type": "code",
   "execution_count": null,
   "id": "cea7997f-3c5f-4a31-a495-56c88f609d66",
   "metadata": {},
   "outputs": [],
   "source": [
    "xx = grid_info['x'].reshape((nlay,nrow,ncol))\n",
    "yy = grid_info['y'].reshape((nlay,nrow,ncol))"
   ]
  },
  {
   "cell_type": "code",
   "execution_count": null,
   "id": "238605e9-ca0e-4ded-b54f-864354f323ec",
   "metadata": {},
   "outputs": [],
   "source": [
    "xx.shape\n"
   ]
  },
  {
   "cell_type": "code",
   "execution_count": null,
   "id": "67b19376-c917-4cc5-963f-8c0b2546e7e0",
   "metadata": {},
   "outputs": [],
   "source": [
    "fig,ax = plt.subplots(1,1)\n",
    "ax.set_aspect(\"equal\")\n",
    "ax.pcolormesh(xx[0,:,:],yy[0,:,:],ib)"
   ]
  },
  {
   "cell_type": "markdown",
   "id": "afe6656e-d0a8-49dc-95d1-06790908aabe",
   "metadata": {},
   "source": [
    "There is also a function to get 2-D info from a binary grid file:"
   ]
  },
  {
   "cell_type": "code",
   "execution_count": null,
   "id": "4115ebaf-639b-4868-bef9-9b807b8e8b4c",
   "metadata": {},
   "outputs": [],
   "source": [
    "grid_info = helpers.get_2d_grid_info_from_mf6_grb(grb_fname)\n",
    "grid_info['x'].shape"
   ]
  },
  {
   "cell_type": "markdown",
   "id": "93c8e663-b196-46f0-8c9e-a9b35ba03fb3",
   "metadata": {},
   "source": [
    "And from a grid specification file:"
   ]
  },
  {
   "cell_type": "code",
   "execution_count": null,
   "id": "2f70f9b6-44c4-423b-aeb4-16c0fd53ad7e",
   "metadata": {},
   "outputs": [],
   "source": [
    "grid_info = helpers.get_grid_info_from_gridspec(gridspec_fname)\n",
    "grid_info"
   ]
  },
  {
   "cell_type": "markdown",
   "id": "94a55787-8849-4e90-893a-489002570bff",
   "metadata": {},
   "source": [
    "There is also an abstract function that tries to get grid info in multiple ways:"
   ]
  },
  {
   "cell_type": "code",
   "execution_count": null,
   "id": "8e8b1fc5-6c4c-4b23-8d20-49be0e421b21",
   "metadata": {},
   "outputs": [],
   "source": [
    "grid_info = helpers.get_2d_grid_info_from_file(gridspec_fname)\n",
    "grid_info"
   ]
  },
  {
   "cell_type": "code",
   "execution_count": null,
   "id": "ae1d9478-8b62-4d6f-af8c-72c44ff62f6b",
   "metadata": {},
   "outputs": [],
   "source": [
    "grid_info_2d = helpers.get_2d_grid_info_from_file(grb_fname)\n",
    "grid_info_2d"
   ]
  },
  {
   "cell_type": "code",
   "execution_count": null,
   "id": "cb64e495-8241-4caa-953a-99e5e2147eb4",
   "metadata": {},
   "outputs": [],
   "source": [
    "grid_info_csv = helpers.get_2d_grid_info_from_file(csv_fname)\n",
    "grid_info_csv"
   ]
  },
  {
   "cell_type": "markdown",
   "id": "c94c2aab-30a1-49bd-bccb-6261cf6c1023",
   "metadata": {},
   "source": [
    "Ultimately, we need a container that has attributes \"x\",\"y\", and optionally \"layer\".  So if you have a `dataframe`, you can just make a dictionary of those columns (or pass your `dataframe` to `helpers.get_2d_grid_info_from_file()`):"
   ]
  },
  {
   "cell_type": "code",
   "execution_count": null,
   "id": "8c6dcce6-12ae-454c-97a5-df9e3ed30358",
   "metadata": {},
   "outputs": [],
   "source": [
    "grid_info_from_df = helpers.get_2d_grid_info_from_file(grid_df)\n",
    "grid_info_from_df"
   ]
  },
  {
   "cell_type": "markdown",
   "id": "9b1eb5bf-2f78-426f-8be7-fef8609b0a15",
   "metadata": {},
   "source": [
    "## Setting up pilot points\n",
    "\n",
    "There is a very simple helper for structured grids to setup pilot point locations.  In practice this process might involve a more sophisticated analysis using a GIS or geopandas, or a gridding algorithm for unstructured grids, etc..."
   ]
  },
  {
   "cell_type": "code",
   "execution_count": null,
   "id": "00f05b27-18d7-403d-bd64-27e770098402",
   "metadata": {},
   "outputs": [],
   "source": [
    "ppdf = helpers.get_2d_pp_info_structured_grid(pp_space=10,gridinfo_fname=gridspec_fname)\n",
    "plt.pcolormesh(sr.xcentergrid,sr.ycentergrid,ib)\n",
    "plt.scatter(ppdf.x,ppdf.y)"
   ]
  },
  {
   "cell_type": "code",
   "execution_count": null,
   "id": "f941491f-97cd-4937-8eed-a374aaf41f84",
   "metadata": {},
   "outputs": [],
   "source": [
    "ppdf = helpers.get_2d_pp_info_structured_grid(pp_space=10,gridinfo_fname=grb_fname)\n",
    "plt.pcolormesh(grid_info_2d['x'].reshape((nrow,ncol)),grid_info_2d['y'].reshape((nrow,ncol)),ib)\n",
    "plt.scatter(ppdf.x,ppdf.y)"
   ]
  },
  {
   "cell_type": "code",
   "execution_count": null,
   "id": "5a42e261-04e3-4c64-8710-c35ec9ceee71",
   "metadata": {},
   "outputs": [],
   "source": [
    "ppdf = helpers.get_2d_pp_info_structured_grid(10,gridspec_fname,array_dict={\"zone\":ib})\n",
    "plt.pcolormesh(sr.xcentergrid,sr.ycentergrid,ib)\n",
    "plt.scatter(ppdf.x,ppdf.y)"
   ]
  },
  {
   "cell_type": "markdown",
   "id": "47af803e-5d5f-4677-b6b5-c082c9f39112",
   "metadata": {},
   "source": [
    "## Generating grid-scale geostatistical realizations\n",
    "\n",
    "There is a helper function to support generating grid-scale geostatistical realizations that optionally might include using spatially varying geostatistical hyper-parameters:"
   ]
  },
  {
   "cell_type": "code",
   "execution_count": null,
   "id": "4a07e0ef-23a6-409d-971e-129a87f13800",
   "metadata": {},
   "outputs": [],
   "source": [
    "reals = helpers.generate_2d_grid_realizations(gridspec_fname,num_reals=10)\n",
    "plt.pcolormesh(sr.xcentergrid,sr.ycentergrid,reals[0,:,:])"
   ]
  },
  {
   "cell_type": "code",
   "execution_count": null,
   "id": "59ce811f-4f5a-4c42-afa1-15dbd05a959d",
   "metadata": {},
   "outputs": [],
   "source": [
    "reals = helpers.generate_2d_grid_realizations(grb_fname,num_reals=10)\n",
    "plt.pcolormesh(sr.xcentergrid,sr.ycentergrid,reals[0,:,:])"
   ]
  },
  {
   "cell_type": "markdown",
   "id": "10e5c89f-9c6f-4c58-9a70-2dfb166d2f7c",
   "metadata": {},
   "source": [
    "We can also pass a grid info dataframe here as well. Notice the that realization are returned as 1-D vectors (that is \"unstructured) because the grid-info dataframe did not have any info regarding the grid type - it only has centroid info (so we have to explicitly reshape the realizations to nrow-ncol dimensions)"
   ]
  },
  {
   "cell_type": "code",
   "execution_count": null,
   "id": "c7d78d64-2e2e-4560-8669-9c92359e66b2",
   "metadata": {},
   "outputs": [],
   "source": [
    "reals = helpers.generate_2d_grid_realizations(grid_df,num_reals=10)\n",
    "plt.pcolormesh(sr.xcentergrid,sr.ycentergrid,reals[0,:,].reshape((nrow,ncol)))"
   ]
  },
  {
   "cell_type": "markdown",
   "id": "77fc60cf-cb06-49eb-b68f-23e00a955ee7",
   "metadata": {},
   "source": [
    "You can pass this helper a `zone_array` to mask/skip inactive nodes and also to generate realizations that are contained within zones:"
   ]
  },
  {
   "cell_type": "code",
   "execution_count": null,
   "id": "f1a7a70c-e639-463f-a1be-f3607a7b116a",
   "metadata": {},
   "outputs": [],
   "source": [
    "reals = helpers.generate_2d_grid_realizations(grb_fname,num_reals=10,zone_array=ib)\n",
    "plt.pcolormesh(sr.xcentergrid,sr.ycentergrid,reals[0,:,:])"
   ]
  },
  {
   "cell_type": "markdown",
   "id": "836817bb-b58f-4a58-b4fa-fc88c58fe2cc",
   "metadata": {},
   "source": [
    "Now lets use a spatially varying bearing parameter"
   ]
  },
  {
   "cell_type": "code",
   "execution_count": null,
   "id": "75c22506-2d20-4132-ae52-197fffbc1cc4",
   "metadata": {},
   "outputs": [],
   "source": [
    "bearing = np.add(np.ones((nrow,ncol)),np.atleast_2d(np.arange(ncol)))\n",
    "plt.imshow(bearing)\n",
    "#bearing.min(),bearing.max()"
   ]
  },
  {
   "cell_type": "code",
   "execution_count": null,
   "id": "8a7ec985-1f3c-4626-b610-3f685d1cd8b4",
   "metadata": {},
   "outputs": [],
   "source": [
    "reals = helpers.generate_2d_grid_realizations(gridspec_fname,num_reals=10,zone_array=ib,variobearing=bearing,varioaniso=10,variorange=1000)\n",
    "plt.pcolormesh(sr.xcentergrid,sr.ycentergrid,reals[0,:,:])"
   ]
  },
  {
   "cell_type": "markdown",
   "id": "1258c19d-eb9f-40cb-9d54-557686eb7693",
   "metadata": {},
   "source": [
    "And not also a varying anisotropy parameter"
   ]
  },
  {
   "cell_type": "code",
   "execution_count": null,
   "id": "b03a5b40-fa10-4d1d-8f71-530ab5245397",
   "metadata": {},
   "outputs": [],
   "source": [
    "s = 10**(np.sin(np.linspace(0,np.pi*2,nrow)))\n",
    "#plt.plot(s) \n",
    "aniso = np.add(np.ones((nrow,ncol)),np.atleast_2d(s).transpose())\n",
    "plt.imshow(aniso)\n",
    "#aniso.min(),aniso.max()"
   ]
  },
  {
   "cell_type": "code",
   "execution_count": null,
   "id": "e0b425fb-3514-4c34-ab17-cc10e3019bdd",
   "metadata": {},
   "outputs": [],
   "source": [
    "reals = helpers.generate_2d_grid_realizations(gridspec_fname,num_reals=10,zone_array=ib,variobearing=bearing,varioaniso=aniso,variorange=1000)\n",
    "plt.pcolormesh(sr.xcentergrid,sr.ycentergrid,reals[0,:,:])"
   ]
  },
  {
   "cell_type": "markdown",
   "id": "6064dab7-d314-4064-b774-1bd4717a1f4f",
   "metadata": {},
   "source": [
    "We can pass any number of arrays to the pilot point setup helper to sample those arrays at the pilot point locations:"
   ]
  },
  {
   "cell_type": "code",
   "execution_count": null,
   "id": "f66f1304-3b58-42a6-a681-26aeda1c4f7c",
   "metadata": {},
   "outputs": [],
   "source": [
    "array_dict={\"zone\":ib,\"value\":reals[0,:,:],\"bearing\":bearing,\"aniso\":aniso}\n",
    "ppdf = helpers.get_2d_pp_info_structured_grid(10,gridspec_fname,array_dict=array_dict)\n",
    "fig,axes = plt.subplots(1,2,figsize=(10,10))\n",
    "axes[0].pcolormesh(sr.xcentergrid,sr.ycentergrid,reals[0])\n",
    "axes[0].scatter(ppdf.x,ppdf.y,c=\"k\")\n",
    "axes[1].scatter(ppdf.x,ppdf.y,c=ppdf.value)\n",
    "for ax in axes:\n",
    "    ax.set_aspect(\"equal\")\n"
   ]
  },
  {
   "cell_type": "code",
   "execution_count": null,
   "id": "f4825f2a-f9ba-4e15-9e38-ab9623a4983e",
   "metadata": {},
   "outputs": [],
   "source": [
    "ppdf.shape"
   ]
  },
  {
   "cell_type": "code",
   "execution_count": null,
   "id": "cf289022-b7d3-487f-a80a-ebe5fdda805b",
   "metadata": {},
   "outputs": [],
   "source": [
    "ppdf"
   ]
  },
  {
   "cell_type": "markdown",
   "id": "1cec6d0a-b1be-4a0d-9101-2f178f3d5813",
   "metadata": {},
   "source": [
    "So now we can do the interpolation...but its slightly more complicated.  We actually need to interpolate the geostatistical hyper parameters to a model-grid shaped array, then,using those arrays, we can do the interpolation for the array we are interested in...good thing there is a helper for this! (just for fun here, we will pass the `grid_df` grid info to show that this helper works seamlessly with a range of grid info arguments)"
   ]
  },
  {
   "cell_type": "code",
   "execution_count": null,
   "id": "179627b3-e124-4a3a-bda2-58681f2cebf3",
   "metadata": {},
   "outputs": [],
   "source": [
    "interp_results = helpers.interpolate_with_sva_pilotpoints_2d(ppdf,grid_df,zone_array=ib)\n",
    "for tag,arr in interp_results.items():\n",
    "    fig,ax = plt.subplots(1,1)\n",
    "    \n",
    "    cb = ax.pcolormesh(sr.xcentergrid,sr.ycentergrid,arr.reshape((nrow,ncol)))\n",
    "    plt.colorbar(cb,ax=ax)\n",
    "    ax.set_title(tag,loc=\"left\")"
   ]
  },
  {
   "cell_type": "code",
   "execution_count": null,
   "id": "734fb047-c9de-484d-ac27-e04a4f96f002",
   "metadata": {},
   "outputs": [],
   "source": []
  }
 ],
 "metadata": {
  "language_info": {
   "name": "python"
  }
 },
 "nbformat": 4,
 "nbformat_minor": 5
}
