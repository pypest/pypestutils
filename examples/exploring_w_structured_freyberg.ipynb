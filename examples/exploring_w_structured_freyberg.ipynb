{
 "cells": [
  {
   "cell_type": "markdown",
   "id": "d6aa4b78-a003-4516-858b-401f27929cdd",
   "metadata": {},
   "source": [
    "# Exploring `PyPestUtils` with a structured Freyberg model"
   ]
  },
  {
   "cell_type": "code",
   "execution_count": null,
   "id": "9f4e07bc-249d-46d5-9520-24b89e06055c",
   "metadata": {},
   "outputs": [],
   "source": [
    "import os\n",
    "import sys\n",
    "import shutil\n",
    "import subprocess as sp\n",
    "\n",
    "import numpy as np\n",
    "import pandas as pd\n",
    "import matplotlib.pyplot as plt"
   ]
  },
  {
   "cell_type": "markdown",
   "id": "136ece76-a01c-4edb-bfab-6983f1053d76",
   "metadata": {},
   "source": [
    "Setup the model dir"
   ]
  },
  {
   "cell_type": "code",
   "execution_count": null,
   "id": "f18a2a7f-4c11-4295-bd5b-f6f598891aeb",
   "metadata": {},
   "outputs": [],
   "source": [
    "org_d = \"freyberg_daily\"\n",
    "w_d = \"freyberg\"\n",
    "if os.path.exists(w_d):\n",
    "    shutil.rmtree(w_d)\n",
    "shutil.copytree(org_d,w_d)"
   ]
  },
  {
   "cell_type": "markdown",
   "id": "433bd98b-8d10-4292-b2c7-847497421197",
   "metadata": {},
   "source": [
    "Eventually will add some post processing stuffs but for now no need to run the model..."
   ]
  },
  {
   "cell_type": "code",
   "execution_count": null,
   "id": "97360430-76d8-4290-aa58-7d012153677e",
   "metadata": {},
   "outputs": [],
   "source": [
    "#p = sp.Popen([\"mf6\"],cwd=w_d)"
   ]
  },
  {
   "cell_type": "code",
   "execution_count": null,
   "id": "d8fe2315-2e95-44cd-9598-2af1f7430dcb",
   "metadata": {},
   "outputs": [],
   "source": []
  },
  {
   "cell_type": "code",
   "execution_count": null,
   "id": "d674d3a2-160d-49c3-b0c0-2e3a01fdbdcc",
   "metadata": {},
   "outputs": [],
   "source": [
    "delc = np.loadtxt(os.path.join(w_d,\"freyberg6.dis_delc.txt\")).flatten()\n",
    "delr = np.loadtxt(os.path.join(w_d,\"freyberg6.dis_delr.txt\")).flatten()"
   ]
  },
  {
   "cell_type": "code",
   "execution_count": null,
   "id": "6b5d9e69-2fab-4fe4-9f77-504a277e0ff5",
   "metadata": {},
   "outputs": [],
   "source": [
    "nrow = delc.shape[0]\n",
    "ncol = delr.shape[0]\n",
    "ib = np.loadtxt(os.path.join(w_d,\"freyberg6.dis_idomain_layer1.txt\"),dtype=int)\n",
    "ib = ib.flatten().reshape(nrow,ncol)\n",
    "plt.imshow(ib)"
   ]
  },
  {
   "cell_type": "markdown",
   "id": "41a05012-7d2b-4747-86a8-b458dc91f2a8",
   "metadata": {},
   "source": [
    "## Some parameterization stuffs\n",
    "Point to the pypestutils source dir and import"
   ]
  },
  {
   "cell_type": "code",
   "execution_count": null,
   "id": "9b1b37cd-f975-45f7-8603-93c2eee132b4",
   "metadata": {},
   "outputs": [],
   "source": [
    "sys.path.insert(0,\"..\")\n",
    "from pypestutils.pestutilslib import PestUtilsLib\n",
    "lib = PestUtilsLib()"
   ]
  },
  {
   "cell_type": "markdown",
   "id": "17bdae1b-828b-46bb-8aee-9a4fe6df2d20",
   "metadata": {},
   "source": [
    "Setup some dimensions for the grid"
   ]
  },
  {
   "cell_type": "code",
   "execution_count": null,
   "id": "ae658c37-d3f9-47bb-a6f5-719591bab7ce",
   "metadata": {},
   "outputs": [],
   "source": [
    "\n",
    "evec = np.arange(ncol)\n",
    "nvec = np.arange(nrow)\n",
    "easting,northing = np.meshgrid(evec,nvec)"
   ]
  },
  {
   "cell_type": "code",
   "execution_count": null,
   "id": "467c6444-d20a-45dd-88f2-773011da315a",
   "metadata": {},
   "outputs": [],
   "source": [
    "easting.shape,northing.shape"
   ]
  },
  {
   "cell_type": "code",
   "execution_count": null,
   "id": "dbebbf8c-f9df-40fc-8533-c63303ffe180",
   "metadata": {},
   "outputs": [],
   "source": [
    "easting"
   ]
  },
  {
   "cell_type": "code",
   "execution_count": null,
   "id": "f5584f21-d337-42a3-9490-6286c5c7b0df",
   "metadata": {},
   "outputs": [],
   "source": [
    "easting = easting.flatten()\n",
    "northing = northing.flatten()"
   ]
  },
  {
   "cell_type": "code",
   "execution_count": null,
   "id": "df07445e-bdf8-4e62-b51a-1e402be98cf6",
   "metadata": {},
   "outputs": [],
   "source": [
    "easting.shape,northing.shape"
   ]
  },
  {
   "cell_type": "code",
   "execution_count": null,
   "id": "077fa1c5-9e5f-4a34-b895-086d066813d0",
   "metadata": {},
   "outputs": [],
   "source": [
    "# cell area\n",
    "area = np.ones_like(easting)\n",
    "#active array\n",
    "active = ib.flatten().astype(int)#np.ones_like(easting,dtype=int)\n",
    "# property mean\n",
    "mean = np.ones_like(easting)\n",
    "# property variance\n",
    "var = np.ones_like(easting)\n",
    "# the variogram range\n",
    "aa = np.ones_like(easting)*5\n",
    "# anisotropy\n",
    "anis = np.ones_like(easting)*5\n",
    "# bearing\n",
    "bearing = (np.ones_like(easting) * 45)"
   ]
  },
  {
   "cell_type": "markdown",
   "id": "5d338487-5778-458a-a8a8-44cbb631c11b",
   "metadata": {},
   "source": [
    "First initial the random engine with seed"
   ]
  },
  {
   "cell_type": "code",
   "execution_count": null,
   "id": "43868740-30e5-4971-a760-81982815f6a5",
   "metadata": {},
   "outputs": [],
   "source": [
    "lib.initialize_randgen(12345)"
   ]
  },
  {
   "cell_type": "code",
   "execution_count": null,
   "id": "e0ba15c6-6be2-4a51-9341-42cd45de5ecc",
   "metadata": {},
   "outputs": [],
   "source": [
    "# generate some reals"
   ]
  },
  {
   "cell_type": "code",
   "execution_count": null,
   "id": "bbc8444a-7574-4b62-a664-b07b085ff650",
   "metadata": {},
   "outputs": [],
   "source": [
    "transform = \"none\"\n",
    "variogram_type = \"exp\"\n",
    "power = 1.0 #unused\n",
    "num_reals = 10\n",
    "reals = lib.fieldgen2d_sva(easting,northing,area,active,mean,var,aa,anis,bearing,transform,variogram_type,power,num_reals)\n",
    "print(reals)"
   ]
  },
  {
   "cell_type": "code",
   "execution_count": null,
   "id": "83f3810c-345e-4ceb-9ead-9a860cb24bc4",
   "metadata": {},
   "outputs": [],
   "source": [
    "plt.imshow(reals[:,0].reshape((nrow,ncol)))"
   ]
  },
  {
   "cell_type": "markdown",
   "id": "6743972f-6b8c-4e95-992c-ee5fdf8adf36",
   "metadata": {},
   "source": [
    "Do something weird with bearing: make it a function of easting?"
   ]
  },
  {
   "cell_type": "code",
   "execution_count": null,
   "id": "b49daf0c-9660-485e-80a3-8ac14beabf7c",
   "metadata": {},
   "outputs": [],
   "source": [
    "bearing = np.add(np.ones((nrow,ncol)),np.atleast_2d(np.arange(ncol)))"
   ]
  },
  {
   "cell_type": "code",
   "execution_count": null,
   "id": "6458e494-546e-403b-b391-fad7e1872602",
   "metadata": {},
   "outputs": [],
   "source": [
    "cb = plt.imshow(bearing)\n",
    "plt.colorbar(cb)"
   ]
  },
  {
   "cell_type": "code",
   "execution_count": null,
   "id": "a10ac5bf-cc32-4da0-8182-075a3955ffb4",
   "metadata": {},
   "outputs": [],
   "source": [
    "bearing = bearing.flatten()"
   ]
  },
  {
   "cell_type": "code",
   "execution_count": null,
   "id": "b5ef9c8c-f548-4412-b1bf-80de43d3e7fb",
   "metadata": {},
   "outputs": [],
   "source": [
    "anis *= 2\n",
    "aa *= 2"
   ]
  },
  {
   "cell_type": "code",
   "execution_count": null,
   "id": "f874efa4-0ea5-4492-bb85-3a8f4b4c0ad3",
   "metadata": {},
   "outputs": [],
   "source": [
    "reals = lib.fieldgen2d_sva(easting,northing,area,active,mean,var,aa,anis,bearing,transform,variogram_type,power,num_reals)\n",
    "r = reals[:,0].reshape((nrow,ncol))\n",
    "plt.imshow(r)"
   ]
  },
  {
   "cell_type": "markdown",
   "id": "f691a7da-58e5-45ed-a5d9-eee4a38aa2db",
   "metadata": {},
   "source": [
    "Now some pilot points with spatially varying variogram props.  Just sample the realization for pp values"
   ]
  },
  {
   "cell_type": "code",
   "execution_count": null,
   "id": "cb95d153-3f04-401b-b5f3-e95ba9e4f00d",
   "metadata": {},
   "outputs": [],
   "source": [
    "ppeasting,ppnorthing = [],[]\n",
    "ppval = []\n",
    "easting,northing = np.meshgrid(evec,nvec)\n",
    "pp_space = 20\n",
    "half_pp_space = int(pp_space/2)\n",
    "for i in range(half_pp_space,nrow,pp_space):\n",
    "    for j in range(half_pp_space,ncol,pp_space):\n",
    "        if ib[i,j] == 0:\n",
    "            continue\n",
    "        ppeasting.append(easting[i,j])\n",
    "        ppnorthing.append(northing[i,j])\n",
    "        ppval.append(r[i,j])\n",
    "ppeasting = np.array(ppeasting)\n",
    "ppnorthing = np.array(ppnorthing)\n",
    "ppval = np.array(ppval)\n",
    "ppeasting.shape,ppnorthing.shape,ppval.shape"
   ]
  },
  {
   "cell_type": "code",
   "execution_count": null,
   "id": "5b9ea063-64c1-4be7-979e-2b14f3d819f9",
   "metadata": {},
   "outputs": [],
   "source": [
    "fig,axes = plt.subplots(1,2)\n",
    "ax = axes[0]\n",
    "ax.imshow(r)\n",
    "ax.set_title(\"realization\")\n",
    "ax = axes[1]\n",
    "ax.set_aspect(\"equal\")\n",
    "ax.set_title(\"pp locs with sampled values\")\n",
    "ax.set_ylim(0,nrow)\n",
    "ax.set_xlim(0,ncol)\n",
    "ax.scatter(ppeasting,ppnorthing,marker=\".\",s=50,c=ppval)\n",
    "ax.invert_yaxis()"
   ]
  },
  {
   "cell_type": "markdown",
   "id": "c8af2941-39d7-43f2-b5c4-c78167a4748e",
   "metadata": {},
   "source": [
    "Now calculate kriging factors"
   ]
  },
  {
   "cell_type": "code",
   "execution_count": null,
   "id": "abf48fc0-0eaa-4373-88a5-45fb1cd4eb10",
   "metadata": {},
   "outputs": [],
   "source": [
    "easting = easting.flatten()\n",
    "northing = northing.flatten()\n",
    "max_pts = 50\n",
    "min_pts = 1\n",
    "search_dist = 1.e+10\n",
    "aa_pp = aa * pp_space *10 #?\n",
    "zone_pp = np.ones_like(ppeasting,dtype=int)\n",
    "fac_file = os.path.join(w_d,\"factors.bin\")\n",
    "from datetime import datetime\n",
    "s = datetime.now()\n",
    "ipts = lib.calc_kriging_factors_2d(ppeasting,ppnorthing,zone_pp,easting,northing,ib.flatten(),\n",
    "                                   \"exp\",\"ordinary\",aa_pp,anis,bearing,search_dist,max_pts,min_pts,fac_file,\"binary\")\n",
    "\"total points:\",ipts,\" took:\",(datetime.now() - s).total_seconds()"
   ]
  },
  {
   "cell_type": "markdown",
   "id": "ab4a17f6-5d1f-40e0-abf8-3d91002fea74",
   "metadata": {},
   "source": [
    "Interpolate to the grid.  I think if we are estimating changing the variogram properties, we have to call `calc_kriging_factors()` each time..."
   ]
  },
  {
   "cell_type": "code",
   "execution_count": null,
   "id": "0a1b8ed7-96ac-49a4-ab39-ef16f2dc31b6",
   "metadata": {},
   "outputs": [],
   "source": [
    "result = lib.krige_using_file(fac_file,\"binary\",len(easting),\"ordinary\",\"none\",np.array(ppval),np.zeros(len(ppval)))"
   ]
  },
  {
   "cell_type": "code",
   "execution_count": null,
   "id": "b07365cf-c415-444b-b7ea-ff0b8c8dafd9",
   "metadata": {},
   "outputs": [],
   "source": [
    "rr = result[\"targval\"].reshape(nrow,ncol)\n",
    "fig,axes = plt.subplots(1,2)\n",
    "ax = axes[0]\n",
    "ax.set_title(\"pp interpolated array\")\n",
    "ax.imshow(rr) #the interpolated array\n",
    "ax = axes[1]\n",
    "ax.set_aspect(\"equal\")\n",
    "ax.set_title(\"pp locs with sampled values\")\n",
    "ax.set_ylim(0,nrow)\n",
    "ax.set_xlim(0,ncol)\n",
    "ax.scatter(ppeasting,ppnorthing,marker=\".\",s=50,c=ppval)\n",
    "ax.invert_yaxis()"
   ]
  },
  {
   "cell_type": "markdown",
   "id": "65140f06-738b-4ae9-b147-9990b44039cf",
   "metadata": {},
   "source": [
    "Now flip the bearing just for fun..."
   ]
  },
  {
   "cell_type": "code",
   "execution_count": null,
   "id": "60834b33-2877-4335-a6d6-0e3bac940ee3",
   "metadata": {},
   "outputs": [],
   "source": [
    "bearing_inv = bearing * -1\n",
    "fac_file = os.path.join(w_d,\"factors.txt\")\n",
    "ipts = lib.calc_kriging_factors_2d(ppeasting,ppnorthing,zone_pp,easting,northing,ib.flatten(),\n",
    "                                   \"exp\",\"ordinary\",aa_pp,anis,bearing_inv,search_dist,max_pts,min_pts,fac_file,\"text\")\n",
    "result = lib.krige_using_file(fac_file,\"text\",len(easting),\"ordinary\",\"none\",np.array(ppval),np.zeros(len(ppval)))\n",
    "rr = result[\"targval\"].reshape(nrow,ncol)\n",
    "fig,axes = plt.subplots(1,2)\n",
    "ax = axes[0]\n",
    "ax.set_title(\"pp interpolated array\")\n",
    "ax.imshow(rr) #the interpolated array\n",
    "ax = axes[1]\n",
    "ax.set_title(\"pp locs with sampled values\")\n",
    "ax.set_ylim(0,nrow)\n",
    "ax.set_xlim(0,ncol)\n",
    "ax.scatter(ppeasting,ppnorthing,marker=\".\",s=50,c=ppval)\n",
    "ax.invert_yaxis()"
   ]
  },
  {
   "cell_type": "code",
   "execution_count": null,
   "id": "6082b429-2315-4e03-9d6e-7980583730b6",
   "metadata": {},
   "outputs": [],
   "source": []
  },
  {
   "cell_type": "code",
   "execution_count": null,
   "id": "9e1a02be-17e9-4dc4-ad05-e1bde7104251",
   "metadata": {},
   "outputs": [],
   "source": []
  },
  {
   "cell_type": "code",
   "execution_count": null,
   "id": "d2482fb8-48d7-4488-9b5f-7e537a49c651",
   "metadata": {},
   "outputs": [],
   "source": []
  },
  {
   "cell_type": "code",
   "execution_count": null,
   "id": "78cf1148-eb57-420e-b271-438ea7419c28",
   "metadata": {},
   "outputs": [],
   "source": []
  }
 ],
 "metadata": {
  "language_info": {
   "name": "python"
  }
 },
 "nbformat": 4,
 "nbformat_minor": 5
}
