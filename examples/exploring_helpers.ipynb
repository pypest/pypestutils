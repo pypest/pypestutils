{
 "cells": [
  {
   "cell_type": "markdown",
   "id": "d6aa4b78-a003-4516-858b-401f27929cdd",
   "metadata": {},
   "source": [
    "# Exploring `PyPestUtils.helpers` with a structured Freyberg model"
   ]
  },
  {
   "cell_type": "code",
   "execution_count": null,
   "id": "9f4e07bc-249d-46d5-9520-24b89e06055c",
   "metadata": {},
   "outputs": [],
   "source": [
    "import os\n",
    "import sys\n",
    "import shutil\n",
    "import subprocess as sp\n",
    "\n",
    "import numpy as np\n",
    "import pandas as pd\n",
    "import matplotlib.pyplot as plt"
   ]
  },
  {
   "cell_type": "markdown",
   "id": "136ece76-a01c-4edb-bfab-6983f1053d76",
   "metadata": {},
   "source": [
    "Setup the model dir"
   ]
  },
  {
   "cell_type": "code",
   "execution_count": null,
   "id": "f18a2a7f-4c11-4295-bd5b-f6f598891aeb",
   "metadata": {},
   "outputs": [],
   "source": [
    "org_d = \"freyberg_daily\"\n",
    "w_d = \"freyberg_helpers\"\n",
    "if os.path.exists(w_d):\n",
    "    shutil.rmtree(w_d)\n",
    "shutil.copytree(org_d,w_d)"
   ]
  },
  {
   "cell_type": "code",
   "execution_count": null,
   "id": "d674d3a2-160d-49c3-b0c0-2e3a01fdbdcc",
   "metadata": {},
   "outputs": [],
   "source": [
    "delc = np.loadtxt(os.path.join(w_d,\"freyberg6.dis_delc.txt\")).flatten()\n",
    "delr = np.loadtxt(os.path.join(w_d,\"freyberg6.dis_delr.txt\")).flatten()"
   ]
  },
  {
   "cell_type": "code",
   "execution_count": null,
   "id": "6b5d9e69-2fab-4fe4-9f77-504a277e0ff5",
   "metadata": {},
   "outputs": [],
   "source": [
    "nrow = delc.shape[0]\n",
    "ncol = delr.shape[0]\n",
    "ib = np.loadtxt(os.path.join(w_d,\"freyberg6.dis_idomain_layer1.txt\"),dtype=int)\n",
    "ib = ib.flatten().reshape(nrow,ncol)\n",
    "plt.imshow(ib)"
   ]
  },
  {
   "cell_type": "code",
   "execution_count": null,
   "id": "9b1b37cd-f975-45f7-8603-93c2eee132b4",
   "metadata": {},
   "outputs": [],
   "source": [
    "sys.path.insert(0,\"..\")\n",
    "import pypestutils.helpers as helpers\n"
   ]
  },
  {
   "cell_type": "code",
   "execution_count": null,
   "id": "469da07f-894a-4911-bb83-8cc98c0945f6",
   "metadata": {},
   "outputs": [],
   "source": [
    "sr = helpers.SpatialReference(delc=delc,delr=delr,rotation=-55,xul=0,yul=0)\n",
    "sr.rotation"
   ]
  },
  {
   "cell_type": "code",
   "execution_count": null,
   "id": "c0c10a49-6ad7-4e17-b31f-66e06eb1bf3b",
   "metadata": {},
   "outputs": [],
   "source": [
    "plt.pcolormesh(sr.xcentergrid,sr.ycentergrid,ib)"
   ]
  },
  {
   "cell_type": "code",
   "execution_count": null,
   "id": "5e2083e9-eca9-4aae-b8c1-85c7e5d43535",
   "metadata": {},
   "outputs": [],
   "source": [
    "gridspec_fname = os.path.join(w_d,\"grid.spc\")\n",
    "sr.write_gridspec(gridspec_fname)"
   ]
  },
  {
   "cell_type": "code",
   "execution_count": null,
   "id": "2f70f9b6-44c4-423b-aeb4-16c0fd53ad7e",
   "metadata": {},
   "outputs": [],
   "source": [
    "grid_info = helpers.get_grid_info_from_gridspec(gridspec_fname)\n",
    "grid_info"
   ]
  },
  {
   "cell_type": "code",
   "execution_count": null,
   "id": "00f05b27-18d7-403d-bd64-27e770098402",
   "metadata": {},
   "outputs": [],
   "source": [
    "ppdf = helpers.get_2d_pp_info_structured_grid(10,gridspec_fname)\n",
    "plt.pcolormesh(sr.xcentergrid,sr.ycentergrid,ib)\n",
    "plt.scatter(ppdf.x,ppdf.y)"
   ]
  },
  {
   "cell_type": "code",
   "execution_count": null,
   "id": "5a42e261-04e3-4c64-8710-c35ec9ceee71",
   "metadata": {},
   "outputs": [],
   "source": [
    "ppdf = helpers.get_2d_pp_info_structured_grid(10,gridspec_fname,zone_array=ib)\n",
    "plt.pcolormesh(sr.xcentergrid,sr.ycentergrid,ib)\n",
    "plt.scatter(ppdf.x,ppdf.y)"
   ]
  },
  {
   "cell_type": "code",
   "execution_count": null,
   "id": "4a07e0ef-23a6-409d-971e-129a87f13800",
   "metadata": {},
   "outputs": [],
   "source": [
    "reals = helpers.generate_2d_grid_realizations(gridspec_fname,num_reals=10)\n",
    "plt.pcolormesh(sr.xcentergrid,sr.ycentergrid,reals[0,:,:])"
   ]
  },
  {
   "cell_type": "code",
   "execution_count": null,
   "id": "59ce811f-4f5a-4c42-afa1-15dbd05a959d",
   "metadata": {},
   "outputs": [],
   "source": []
  },
  {
   "cell_type": "code",
   "execution_count": null,
   "id": "f606c051-20b7-4bdd-9dc5-f0199ddc2bbb",
   "metadata": {},
   "outputs": [],
   "source": []
  },
  {
   "cell_type": "code",
   "execution_count": null,
   "id": "f1a7a70c-e639-463f-a1be-f3607a7b116a",
   "metadata": {},
   "outputs": [],
   "source": [
    "reals = helpers.generate_2d_grid_realizations(gridspec_fname,num_reals=10,zone_array=ib)\n",
    "plt.pcolormesh(sr.xcentergrid,sr.ycentergrid,reals[0,:,:])"
   ]
  },
  {
   "cell_type": "code",
   "execution_count": null,
   "id": "75c22506-2d20-4132-ae52-197fffbc1cc4",
   "metadata": {},
   "outputs": [],
   "source": [
    "bearing = np.add(np.ones((nrow,ncol)),np.atleast_2d(np.arange(ncol)))\n",
    "#plt.imshow(bearing)\n",
    "#bearing.min(),bearing.max()"
   ]
  },
  {
   "cell_type": "code",
   "execution_count": null,
   "id": "8a7ec985-1f3c-4626-b610-3f685d1cd8b4",
   "metadata": {},
   "outputs": [],
   "source": [
    "reals = helpers.generate_2d_grid_realizations(gridspec_fname,num_reals=10,zone_array=ib,variobearing=bearing,varioaniso=10,variorange=1000)\n",
    "plt.pcolormesh(sr.xcentergrid,sr.ycentergrid,reals[0,:,:])"
   ]
  },
  {
   "cell_type": "code",
   "execution_count": null,
   "id": "b03a5b40-fa10-4d1d-8f71-530ab5245397",
   "metadata": {},
   "outputs": [],
   "source": [
    "s = 10**(np.sin(np.linspace(0,np.pi*2,nrow)))\n",
    "#plt.plot(s) \n",
    "aniso = np.add(np.ones((nrow,ncol)),np.atleast_2d(s).transpose())\n",
    "#plt.imshow(aniso)\n",
    "#aniso.min(),aniso.max()"
   ]
  },
  {
   "cell_type": "code",
   "execution_count": null,
   "id": "e0b425fb-3514-4c34-ab17-cc10e3019bdd",
   "metadata": {},
   "outputs": [],
   "source": [
    "reals = helpers.generate_2d_grid_realizations(gridspec_fname,num_reals=10,zone_array=ib,variobearing=bearing,varioaniso=aniso,variorange=1000)\n",
    "plt.pcolormesh(sr.xcentergrid,sr.ycentergrid,reals[0,:,:])"
   ]
  },
  {
   "cell_type": "code",
   "execution_count": null,
   "id": "f66f1304-3b58-42a6-a681-26aeda1c4f7c",
   "metadata": {},
   "outputs": [],
   "source": [
    "ppdf = helpers.get_2d_pp_info_structured_grid(10,gridspec_fname,zone_array=ib,existing_array=reals[0,:,:],bearing_array=bearing)\n",
    "fig,axes = plt.subplots(1,2,figsize=(10,10))\n",
    "axes[0].pcolormesh(sr.xcentergrid,sr.ycentergrid,reals[0])\n",
    "axes[0].scatter(ppdf.x,ppdf.y,c=\"k\")\n",
    "axes[1].scatter(ppdf.x,ppdf.y,c=ppdf.value)\n",
    "for ax in axes:\n",
    "    ax.set_aspect(\"equal\")\n"
   ]
  },
  {
   "cell_type": "code",
   "execution_count": null,
   "id": "f4825f2a-f9ba-4e15-9e38-ab9623a4983e",
   "metadata": {},
   "outputs": [],
   "source": [
    "ppdf.shape"
   ]
  },
  {
   "cell_type": "code",
   "execution_count": null,
   "id": "4db38188-e909-4c37-b71f-e55f71f52804",
   "metadata": {},
   "outputs": [],
   "source": [
    "ppdf.loc[:,\"aniso\"] = 10"
   ]
  },
  {
   "cell_type": "code",
   "execution_count": null,
   "id": "179627b3-e124-4a3a-bda2-58681f2cebf3",
   "metadata": {},
   "outputs": [],
   "source": [
    "interp = helpers.interpolate_with_sva_pilotpoints_2d(ppdf,gridspec_fname,zone_array=ib)\n",
    "plt.pcolormesh(sr.xcentergrid,sr.ycentergrid,interp)"
   ]
  },
  {
   "cell_type": "code",
   "execution_count": null,
   "id": "9733e9eb-71ab-4759-bd31-5d3cedf3b34e",
   "metadata": {},
   "outputs": [],
   "source": []
  },
  {
   "cell_type": "code",
   "execution_count": null,
   "id": "e512bf5b-0326-4325-9388-f8a5959f096b",
   "metadata": {},
   "outputs": [],
   "source": []
  },
  {
   "cell_type": "code",
   "execution_count": null,
   "id": "b646fdbb-31b1-468b-8bf7-ab8dd1e460d3",
   "metadata": {},
   "outputs": [],
   "source": []
  },
  {
   "cell_type": "code",
   "execution_count": null,
   "id": "a9ce5fa5-1be3-4f5c-8bfd-1f420b16ed74",
   "metadata": {},
   "outputs": [],
   "source": []
  },
  {
   "cell_type": "code",
   "execution_count": null,
   "id": "c48f7583-ce5c-4d30-b83e-abc714e03dbc",
   "metadata": {},
   "outputs": [],
   "source": []
  }
 ],
 "metadata": {
  "language_info": {
   "name": "python"
  }
 },
 "nbformat": 4,
 "nbformat_minor": 5
}
