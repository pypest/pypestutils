{
 "cells": [
  {
   "cell_type": "markdown",
   "id": "d6aa4b78-a003-4516-858b-401f27929cdd",
   "metadata": {},
   "source": [
    "# Exploring low-level `PyPestUtils` library functions with a structured Freyberg model"
   ]
  },
  {
   "cell_type": "code",
   "execution_count": null,
   "id": "9f4e07bc-249d-46d5-9520-24b89e06055c",
   "metadata": {},
   "outputs": [],
   "source": [
    "import os\n",
    "import sys\n",
    "import shutil\n",
    "import subprocess as sp\n",
    "\n",
    "import numpy as np\n",
    "import pandas as pd\n",
    "import matplotlib.pyplot as plt\n",
    "\n",
    "import flopy"
   ]
  },
  {
   "cell_type": "markdown",
   "id": "136ece76-a01c-4edb-bfab-6983f1053d76",
   "metadata": {},
   "source": [
    "Setup the model dir"
   ]
  },
  {
   "cell_type": "code",
   "execution_count": null,
   "id": "f18a2a7f-4c11-4295-bd5b-f6f598891aeb",
   "metadata": {},
   "outputs": [],
   "source": [
    "org_d = \"freyberg_monthly\"\n",
    "w_d = \"freyberg_explore_lowlevel\"\n",
    "if os.path.exists(w_d):\n",
    "    shutil.rmtree(w_d)\n",
    "shutil.copytree(org_d,w_d)"
   ]
  },
  {
   "cell_type": "code",
   "execution_count": null,
   "id": "8716a47e-f5fa-4e94-ac13-b92d6b4f3662",
   "metadata": {},
   "outputs": [],
   "source": [
    "sim = flopy.mf6.MFSimulation.load(sim_ws=w_d)\n",
    "m = sim.get_model()"
   ]
  },
  {
   "cell_type": "code",
   "execution_count": null,
   "id": "0a8d0ccc-310c-4f8a-8e0f-cf93f18ed946",
   "metadata": {},
   "outputs": [],
   "source": [
    "m.dis.top.plot()"
   ]
  },
  {
   "cell_type": "markdown",
   "id": "41a05012-7d2b-4747-86a8-b458dc91f2a8",
   "metadata": {},
   "source": [
    "## Initial steps with the library\n",
    "\n",
    "Install a grid from an MF6 binary grid file (ie .grb):\n"
   ]
  },
  {
   "cell_type": "code",
   "execution_count": null,
   "id": "9b1b37cd-f975-45f7-8603-93c2eee132b4",
   "metadata": {},
   "outputs": [],
   "source": [
    "from pypestutils.pestutilslib import PestUtilsLib\n",
    "lib = PestUtilsLib()"
   ]
  },
  {
   "cell_type": "code",
   "execution_count": null,
   "id": "ae658c37-d3f9-47bb-a6f5-719591bab7ce",
   "metadata": {},
   "outputs": [],
   "source": [
    "grid_info = lib.install_mf6_grid_from_file(\"structgrid\",os.path.join(w_d,\"freyberg6.dis.grb\"))\n"
   ]
  },
  {
   "cell_type": "markdown",
   "id": "394dcecd-e79e-4958-acac-f1e32336905e",
   "metadata": {},
   "source": [
    "`grid_info` tells us about the dimensions and type of grid:"
   ]
  },
  {
   "cell_type": "code",
   "execution_count": null,
   "id": "34c1f917-390f-405a-8024-35ceed474f8e",
   "metadata": {},
   "outputs": [],
   "source": [
    "grid_info"
   ]
  },
  {
   "cell_type": "markdown",
   "id": "3ad33665-de5b-4caf-a226-654c22ba1b3b",
   "metadata": {},
   "source": [
    "Just to help us, lets define the standard structured grid dimension names - not required (all of this actually works just the same for unstructured grids)"
   ]
  },
  {
   "cell_type": "code",
   "execution_count": null,
   "id": "46c45bf3-3b13-4c99-9fba-1370aadaab04",
   "metadata": {},
   "outputs": [],
   "source": [
    "nrow = grid_info[\"ndim2\"]\n",
    "ncol = grid_info[\"ndim1\"]\n",
    "nlay = grid_info[\"ndim3\"]"
   ]
  },
  {
   "cell_type": "markdown",
   "id": "e47dd24a-8e1c-44e7-b3c7-ec4cc656b9f5",
   "metadata": {},
   "source": [
    "We can use the cell centroids for plotting stuff and also for the parameterization setup later..."
   ]
  },
  {
   "cell_type": "code",
   "execution_count": null,
   "id": "6bfa12cd-03d7-428c-a0e3-3169d811891e",
   "metadata": {},
   "outputs": [],
   "source": [
    "easting,northing,elev = lib.get_cell_centres_mf6(\"structgrid\",grid_info[\"ncells\"])"
   ]
  },
  {
   "cell_type": "code",
   "execution_count": null,
   "id": "122450bc-7a0c-4829-8dff-6e2a8ea48078",
   "metadata": {},
   "outputs": [],
   "source": [
    "easting = easting[:nrow*ncol]\n",
    "northing = northing[:nrow*ncol]\n",
    "Easting = easting.reshape((nrow,ncol))\n",
    "Northing = northing.reshape((nrow,ncol))"
   ]
  },
  {
   "cell_type": "markdown",
   "id": "92ca3e2f-814d-43c7-a834-70a13add8be1",
   "metadata": {},
   "source": [
    "## Post-processing\n",
    "\n",
    "Now we will walk thru using `pypestutils` for a MOD2OBS-style model results post processing, where we extract values from the MODFLOW6 binary output file, spatially interpolate those results to the observation location, and then temporally align/interpolate the outputs to the observation times...\n",
    "\n",
    "first we need to MODFLOW6 binary headsave file:"
   ]
  },
  {
   "cell_type": "code",
   "execution_count": null,
   "id": "0f2d3e03-576b-4acc-92d6-61b87c2c30e8",
   "metadata": {},
   "outputs": [],
   "source": [
    "hds_file = [os.path.join(w_d,f) for f in os.listdir(w_d) if f.endswith(\".hds\")][0]\n",
    "hds_file"
   ]
  },
  {
   "cell_type": "markdown",
   "id": "ad56b290-0d5b-474d-a162-6de96b38580c",
   "metadata": {},
   "source": [
    "Now let's inquire what is in this file:"
   ]
  },
  {
   "cell_type": "code",
   "execution_count": null,
   "id": "39be6946-e9c7-41a1-8ea1-ce96e28c9e63",
   "metadata": {},
   "outputs": [],
   "source": [
    "depvar_file_info = lib.inquire_modflow_binary_file_specs(hds_file,hds_file+\".out\",31,1)"
   ]
  },
  {
   "cell_type": "code",
   "execution_count": null,
   "id": "8bc56bfa-a82e-4fd5-8376-85a598b99961",
   "metadata": {},
   "outputs": [],
   "source": [
    "depvar_file_info"
   ]
  },
  {
   "cell_type": "markdown",
   "id": "8403aaa2-5f65-4f9d-a67c-34123def4382",
   "metadata": {},
   "source": [
    "We can use that `depvar_file_info` later in other function calls.  We can also load up the csv file that was created that summarizes the headsave file contents:"
   ]
  },
  {
   "cell_type": "code",
   "execution_count": null,
   "id": "971aa9f2-5c91-422b-8aca-7e7dec873f35",
   "metadata": {},
   "outputs": [],
   "source": [
    "df = pd.read_csv(hds_file+\".out\")\n",
    "df.columns = [c.lower() for c in df.columns]\n",
    "df"
   ]
  },
  {
   "cell_type": "markdown",
   "id": "0ae4e2b9-aba7-4519-be16-6f4a831b440c",
   "metadata": {},
   "source": [
    "Now let's load up the actual observations - stored in a csv file:"
   ]
  },
  {
   "cell_type": "code",
   "execution_count": null,
   "id": "9a732df9-5dac-4127-83a9-383d89cf390d",
   "metadata": {},
   "outputs": [],
   "source": [
    "hdsdf = pd.read_csv(os.path.join(\"freyberg_aux_files\",\"gwlevel_obs.csv\"),parse_dates=[\"datetime\"])\n",
    "hdsdf"
   ]
  },
  {
   "cell_type": "code",
   "execution_count": null,
   "id": "90318997-9c94-4fe3-a4f2-b285c493b91c",
   "metadata": {},
   "outputs": [],
   "source": [
    "fig,axes = plt.subplots(1,2,figsize=(10,10))\n",
    "for lay,ax in zip([1,3],axes):\n",
    "    ax.set_aspect(\"equal\")\n",
    "    kdf = hdsdf.loc[hdsdf.layer==lay,:]\n",
    "    assert kdf.shape[0] > 0\n",
    "    ax.pcolormesh(Easting,Northing,m.dis.top.array)\n",
    "    ax.scatter(kdf.x,kdf.y,marker=\"^\",c=\"k\",label=\"gw level loc\")\n",
    "    ax.legend(loc=\"upper left\")\n",
    "    ax.set_title(\"gw level locations in layer {0}\".format(lay),loc=\"left\")\n"
   ]
  },
  {
   "cell_type": "markdown",
   "id": "41ed1e7e-e8f5-4b2b-bbb9-a2a8175c4dc8",
   "metadata": {},
   "source": [
    "Get unique site info - we will use this to calculate spatial interpolation factors from nearby model nodes to the observation locations:"
   ]
  },
  {
   "cell_type": "code",
   "execution_count": null,
   "id": "2836170a-e7c4-4536-b873-80c02f258e27",
   "metadata": {},
   "outputs": [],
   "source": [
    "usitedf = hdsdf.groupby(\"site\").first()\n",
    "usitedf"
   ]
  },
  {
   "cell_type": "markdown",
   "id": "04e3aebb-a3b4-4d97-9526-ef91008af4c8",
   "metadata": {},
   "source": [
    "Now lets calculate the observation interpolation factors"
   ]
  },
  {
   "cell_type": "code",
   "execution_count": null,
   "id": "bec8db33-c5db-4aa7-bd8a-a960d4919f6f",
   "metadata": {},
   "outputs": [],
   "source": [
    "fac_file = os.path.join(w_d,\"obs_interp_fac.bin\")\n",
    "bln_file = fac_file.replace(\".bin\",\".bln\")"
   ]
  },
  {
   "cell_type": "code",
   "execution_count": null,
   "id": "9ed4cc12-e060-4396-91c6-938cb76f0828",
   "metadata": {},
   "outputs": [],
   "source": [
    "results = lib.calc_mf6_interp_factors(\"structgrid\",usitedf.x.values,usitedf.y.values,usitedf.layer.values,fac_file,\"binary\",bln_file)\n",
    "results"
   ]
  },
  {
   "cell_type": "markdown",
   "id": "f916f018-e1bb-4afb-98ab-5880424c7690",
   "metadata": {},
   "source": [
    "You should see all 1s, which means there was successful interpolation factor calculation for all sites..lets make sure!"
   ]
  },
  {
   "cell_type": "code",
   "execution_count": null,
   "id": "ab9ef35f-43ab-4b8a-9006-304ac3ce1457",
   "metadata": {},
   "outputs": [],
   "source": [
    "assert 0 not in results"
   ]
  },
  {
   "cell_type": "markdown",
   "id": "501eafc2-fbb3-46d4-b417-2ac69f69ecd8",
   "metadata": {},
   "source": [
    "Ok not we can do the spatial interpolation from the nodes to the observation locations:"
   ]
  },
  {
   "cell_type": "code",
   "execution_count": null,
   "id": "5420c8de-223b-4510-8101-1604c5694120",
   "metadata": {},
   "outputs": [],
   "source": [
    "head_results = lib.interp_from_mf6_depvar_file(hds_file,fac_file,\"binary\",depvar_file_info[\"ntime\"],\"head\",1e+10,True,-1.0e+30,usitedf.shape[0])"
   ]
  },
  {
   "cell_type": "code",
   "execution_count": null,
   "id": "3485498a-9c50-4f53-afd1-7b78d4b5a937",
   "metadata": {},
   "outputs": [],
   "source": [
    "head_results[\"simstate\"].shape"
   ]
  },
  {
   "cell_type": "markdown",
   "id": "8f05404b-e403-454c-9395-f68eb3b52077",
   "metadata": {},
   "source": [
    "So `head_reults` would be the equivalent of MOD2SMP output.  You can stop here is you like...but there is more!\n",
    "\n",
    "Now lets do the temporal alignment/interpolation with the actual observations.  First we need to convert from `datetime` to float time (in model time units) since the start of the simulation:"
   ]
  },
  {
   "cell_type": "code",
   "execution_count": null,
   "id": "11006965-4ed5-4820-ade8-6b718911436e",
   "metadata": {},
   "outputs": [],
   "source": [
    "start_datetime = pd.to_datetime(\"1-1-2018\") \n",
    "hdsdf.loc[:,\"time\"] = hdsdf.datetime.apply(lambda x: x  - start_datetime).dt.days # we are losing fractional days..oh well...\n",
    "hdsdf.time"
   ]
  },
  {
   "cell_type": "markdown",
   "id": "a21a0eac-9f18-4759-9fd4-3edd97ac3ff1",
   "metadata": {},
   "source": [
    "Now lets also add an `isite` interger column to marks where difference sites start and stop:"
   ]
  },
  {
   "cell_type": "code",
   "execution_count": null,
   "id": "bb17aaf5-24c9-4ba2-bbe7-a84f0923f746",
   "metadata": {},
   "outputs": [],
   "source": [
    "usite = hdsdf.site.unique()\n",
    "usite.sort()\n",
    "usite_dict = {s:c for s,c in zip(usite,np.arange(usite.shape[0],dtype=int))}\n",
    "hdsdf.loc[:,\"isite\"] = hdsdf.site.apply(lambda x: usite_dict[x])\n",
    "hdsdf.isite\n",
    "hdsdf.sort_values(by=[\"isite\",\"time\"],inplace=True)\n",
    "hdsdf"
   ]
  },
  {
   "cell_type": "code",
   "execution_count": null,
   "id": "43a0dd51-d458-4335-99fb-bd5b3adede0c",
   "metadata": {},
   "outputs": [],
   "source": [
    "ihead_results = lib.interp_to_obstime(head_results[\"nproctime\"],head_results[\"simtime\"],head_results[\"simstate\"],1.e+10,\"L\",35.0,1.0e+30,hdsdf.isite.values,hdsdf.time.values)"
   ]
  },
  {
   "cell_type": "code",
   "execution_count": null,
   "id": "b27ed24c-1fac-49f4-beca-48509e881ec9",
   "metadata": {},
   "outputs": [],
   "source": [
    "hdsdf.loc[:,\"simulated\"] = ihead_results"
   ]
  },
  {
   "cell_type": "code",
   "execution_count": null,
   "id": "5bc5a851-3be7-45ee-b0d8-533e90ac88b2",
   "metadata": {},
   "outputs": [],
   "source": [
    "hdsdf"
   ]
  },
  {
   "cell_type": "markdown",
   "id": "373f642b-880f-4593-9c9d-dd71c5dc251e",
   "metadata": {},
   "source": [
    "Thats it!  MOD2OBS done..."
   ]
  },
  {
   "cell_type": "markdown",
   "id": "ecc412a4-bd7d-46b9-8740-b30b925f1cf6",
   "metadata": {},
   "source": [
    "## Parameterization\n",
    "\n",
    "With an installed grid, we can get the centroids of the model nodes, which we need for parameterization stuff.."
   ]
  },
  {
   "cell_type": "code",
   "execution_count": null,
   "id": "60d82288-e709-4b67-b0f2-b1381dc0e4f3",
   "metadata": {},
   "outputs": [],
   "source": [
    "easting,northing,elev = lib.get_cell_centres_mf6(\"structgrid\",grid_info[\"ncells\"])"
   ]
  },
  {
   "cell_type": "code",
   "execution_count": null,
   "id": "467c6444-d20a-45dd-88f2-773011da315a",
   "metadata": {},
   "outputs": [],
   "source": [
    "easting.shape,northing.shape"
   ]
  },
  {
   "cell_type": "markdown",
   "id": "7d977397-773f-4a0d-bd30-af43c41a493f",
   "metadata": {},
   "source": [
    "Thats the centroids of all nodes (across all layers).  Let's focus on 2-D stuff here...so we need to get the first `nrow * ncol` nodes:"
   ]
  },
  {
   "cell_type": "code",
   "execution_count": null,
   "id": "9d45be88-f495-48d9-af44-151ce397b932",
   "metadata": {},
   "outputs": [],
   "source": [
    "easting = easting[:nrow*ncol]\n",
    "northing = northing[:nrow*ncol]"
   ]
  },
  {
   "cell_type": "code",
   "execution_count": null,
   "id": "dbebbf8c-f9df-40fc-8533-c63303ffe180",
   "metadata": {},
   "outputs": [],
   "source": [
    "easting.shape"
   ]
  },
  {
   "cell_type": "code",
   "execution_count": null,
   "id": "077fa1c5-9e5f-4a34-b895-086d066813d0",
   "metadata": {},
   "outputs": [],
   "source": [
    "# cell area\n",
    "area = np.ones_like(easting)\n",
    "#active array\n",
    "active = m.dis.idomain.array[0,:,:].flatten()\n",
    "# property mean\n",
    "mean = np.ones_like(easting)\n",
    "# property variance\n",
    "var = np.ones_like(easting)\n",
    "# the variogram range\n",
    "aa = np.ones_like(easting)*1000\n",
    "# anisotropy\n",
    "anis = np.ones_like(easting)*5\n",
    "# bearing\n",
    "bearing = (np.ones_like(easting) * 55)"
   ]
  },
  {
   "cell_type": "markdown",
   "id": "5d338487-5778-458a-a8a8-44cbb631c11b",
   "metadata": {},
   "source": [
    "First initial the random engine with seed"
   ]
  },
  {
   "cell_type": "code",
   "execution_count": null,
   "id": "43868740-30e5-4971-a760-81982815f6a5",
   "metadata": {},
   "outputs": [],
   "source": [
    "lib.initialize_randgen(12345)"
   ]
  },
  {
   "cell_type": "code",
   "execution_count": null,
   "id": "e0ba15c6-6be2-4a51-9341-42cd45de5ecc",
   "metadata": {},
   "outputs": [],
   "source": [
    "# generate some reals"
   ]
  },
  {
   "cell_type": "code",
   "execution_count": null,
   "id": "bbc8444a-7574-4b62-a664-b07b085ff650",
   "metadata": {},
   "outputs": [],
   "source": [
    "transform = \"none\"\n",
    "variogram_type = \"exp\"\n",
    "power = 1.0 #unused\n",
    "num_reals = 10\n",
    "reals = lib.fieldgen2d_sva(easting,northing,area,active,mean,var,aa,anis,bearing,transform,variogram_type,power,num_reals)\n",
    "reals.shape"
   ]
  },
  {
   "cell_type": "code",
   "execution_count": null,
   "id": "83f3810c-345e-4ceb-9ead-9a860cb24bc4",
   "metadata": {},
   "outputs": [],
   "source": [
    "m.dis.top = reals[:,0]\n",
    "m.dis.top.plot()"
   ]
  },
  {
   "cell_type": "code",
   "execution_count": null,
   "id": "87e51f9f-569a-49dd-94ed-8bb0320aacbd",
   "metadata": {},
   "outputs": [],
   "source": []
  },
  {
   "cell_type": "code",
   "execution_count": null,
   "id": "b70e5705-488e-44e3-adea-de60c12c2a5c",
   "metadata": {},
   "outputs": [],
   "source": [
    "lib2 = PestUtilsLib()\n",
    "transform = \"none\"\n",
    "variogram_type = \"exp\"\n",
    "power = 1.0 #unused\n",
    "num_reals = 10\n",
    "lib2.initialize_randgen(54321)\n",
    "reals = lib2.fieldgen2d_sva(easting,northing,area,active,mean,var,aa,anis,bearing,transform,variogram_type,power,num_reals)\n",
    "print(reals)\n",
    "plt.imshow(reals[:,0].reshape((nrow,ncol)))"
   ]
  },
  {
   "cell_type": "markdown",
   "id": "6743972f-6b8c-4e95-992c-ee5fdf8adf36",
   "metadata": {},
   "source": [
    "Do something weird with bearing: make it a function of easting?"
   ]
  },
  {
   "cell_type": "code",
   "execution_count": null,
   "id": "b49daf0c-9660-485e-80a3-8ac14beabf7c",
   "metadata": {},
   "outputs": [],
   "source": [
    "bearing = np.add(np.ones((nrow,ncol)),np.atleast_2d(np.arange(ncol)))"
   ]
  },
  {
   "cell_type": "code",
   "execution_count": null,
   "id": "6458e494-546e-403b-b391-fad7e1872602",
   "metadata": {},
   "outputs": [],
   "source": [
    "cb = plt.imshow(bearing)\n",
    "plt.colorbar(cb)"
   ]
  },
  {
   "cell_type": "code",
   "execution_count": null,
   "id": "a10ac5bf-cc32-4da0-8182-075a3955ffb4",
   "metadata": {},
   "outputs": [],
   "source": [
    "bearing = bearing.flatten()"
   ]
  },
  {
   "cell_type": "code",
   "execution_count": null,
   "id": "b5ef9c8c-f548-4412-b1bf-80de43d3e7fb",
   "metadata": {},
   "outputs": [],
   "source": [
    "anis *= 2\n",
    "aa *= 2"
   ]
  },
  {
   "cell_type": "code",
   "execution_count": null,
   "id": "f874efa4-0ea5-4492-bb85-3a8f4b4c0ad3",
   "metadata": {},
   "outputs": [],
   "source": [
    "reals = lib.fieldgen2d_sva(easting,northing,area,active,mean,var,aa,anis,bearing,transform,variogram_type,power,num_reals)\n",
    "r = reals[:,0].reshape((nrow,ncol))\n",
    "plt.imshow(r)"
   ]
  },
  {
   "cell_type": "markdown",
   "id": "f691a7da-58e5-45ed-a5d9-eee4a38aa2db",
   "metadata": {},
   "source": [
    "Now some pilot points with spatially varying variogram props.  Just sample the realization for pp values"
   ]
  },
  {
   "cell_type": "code",
   "execution_count": null,
   "id": "cb95d153-3f04-401b-b5f3-e95ba9e4f00d",
   "metadata": {},
   "outputs": [],
   "source": [
    "Easting = easting.reshape((nrow,ncol))\n",
    "Northing = northing.reshape((nrow,ncol))\n",
    "ppeasting,ppnorthing = [],[]\n",
    "ppval = []\n",
    "pp_space = 20\n",
    "ib = m.dis.idomain.array[0,:,:]\n",
    "half_pp_space = int(pp_space/2)\n",
    "for i in range(half_pp_space,nrow,pp_space):\n",
    "    for j in range(half_pp_space,ncol,pp_space):\n",
    "        if ib[i,j] == 0:\n",
    "            continue\n",
    "        ppeasting.append(Easting[i,j])\n",
    "        ppnorthing.append(Northing[i,j])\n",
    "        ppval.append(r[i,j])\n",
    "ppeasting = np.array(ppeasting)\n",
    "ppnorthing = np.array(ppnorthing)\n",
    "ppval = np.array(ppval)\n",
    "ppeasting.shape,ppnorthing.shape,ppval.shape"
   ]
  },
  {
   "cell_type": "code",
   "execution_count": null,
   "id": "83c5aec8-eb4b-4fdc-bd3d-25a7574aa336",
   "metadata": {},
   "outputs": [],
   "source": []
  },
  {
   "cell_type": "code",
   "execution_count": null,
   "id": "5b9ea063-64c1-4be7-979e-2b14f3d819f9",
   "metadata": {},
   "outputs": [],
   "source": [
    "fig,ax = plt.subplots(1,1)\n",
    "ax.set_aspect(\"equal\")\n",
    "ax.pcolormesh(Easting,Northing,r)\n",
    "ax.set_title(\"realization\")\n",
    "\n",
    "ax.scatter(ppeasting,ppnorthing,marker=\".\",s=50,c='k')"
   ]
  },
  {
   "cell_type": "markdown",
   "id": "c8af2941-39d7-43f2-b5c4-c78167a4748e",
   "metadata": {},
   "source": [
    "Now calculate kriging factors"
   ]
  },
  {
   "cell_type": "code",
   "execution_count": null,
   "id": "abf48fc0-0eaa-4373-88a5-45fb1cd4eb10",
   "metadata": {},
   "outputs": [],
   "source": [
    "max_pts = 50\n",
    "min_pts = 1\n",
    "search_dist = 1.e+10\n",
    "aa_pp = aa * pp_space *10 #?\n",
    "zone_pp = np.ones_like(ppeasting,dtype=int)\n",
    "fac_file = os.path.join(w_d,\"factors.bin\")\n",
    "from datetime import datetime\n",
    "s = datetime.now()\n",
    "ipts = lib.calc_kriging_factors_2d(ppeasting,ppnorthing,zone_pp,easting,northing,ib.flatten(),\n",
    "                                   \"exp\",\"ordinary\",aa_pp,anis,bearing,search_dist,max_pts,min_pts,fac_file,\"binary\")\n",
    "\"total points:\",ipts,\" took:\",(datetime.now() - s).total_seconds()"
   ]
  },
  {
   "cell_type": "markdown",
   "id": "ab4a17f6-5d1f-40e0-abf8-3d91002fea74",
   "metadata": {},
   "source": [
    "Interpolate to the grid.  I think if we are estimating changing the variogram properties, we have to call `calc_kriging_factors()` each time..."
   ]
  },
  {
   "cell_type": "code",
   "execution_count": null,
   "id": "0a1b8ed7-96ac-49a4-ab39-ef16f2dc31b6",
   "metadata": {},
   "outputs": [],
   "source": [
    "result = lib.krige_using_file(fac_file,\"binary\",len(easting),\"ordinary\",\"none\",np.array(ppval),np.zeros_like(easting),0)"
   ]
  },
  {
   "cell_type": "code",
   "execution_count": null,
   "id": "b07365cf-c415-444b-b7ea-ff0b8c8dafd9",
   "metadata": {},
   "outputs": [],
   "source": [
    "rr = result[\"targval\"].reshape(nrow,ncol)\n",
    "fig,axes = plt.subplots(1,2)\n",
    "ax = axes[0]\n",
    "ax.set_aspect(\"equal\")\n",
    "ax.set_title(\"pp interpolated array\")\n",
    "ax.pcolormesh(Easting,Northing,rr) #the interpolated array\n",
    "ax = axes[1]\n",
    "ax.set_aspect(\"equal\")\n",
    "ax.set_title(\"pp locs with sampled values\")\n",
    "id_mask = m.dis.idomain.array[0,:,:].copy().astype(float)\n",
    "id_mask[id_mask!=0] = np.nan\n",
    "ax.pcolormesh(Easting,Northing,id_mask)\n",
    "ax.scatter(ppeasting,ppnorthing,marker=\".\",s=50,c=ppval)\n"
   ]
  }
 ],
 "metadata": {
  "language_info": {
   "name": "python"
  }
 },
 "nbformat": 4,
 "nbformat_minor": 5
}
